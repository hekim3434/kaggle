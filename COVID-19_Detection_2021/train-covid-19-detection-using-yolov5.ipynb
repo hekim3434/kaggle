{
 "cells": [
  {
   "cell_type": "markdown",
   "metadata": {},
   "source": [
    "This is a starter kernel to train a YOLOv5 model on [SIIM-FISABIO-RSNA COVID-19 Detection](https://www.kaggle.com/c/siim-covid19-detection/overview) dataset. Given an input image the task is to find the region of opacity in the chest  using bounding box coordinates. Check out [Visualize Bounding Boxes Interactively](https://www.kaggle.com/ayuraj/visualize-bounding-boxes-interactively) for interactive bounding box EDA. \n",
    "\n",
    "## 🖼️ What is YOLOv5?\n",
    "\n",
    "YOLO an acronym for 'You only look once', is an object detection algorithm that divides images into a grid system. Each cell in the grid is responsible for detecting objects within itself.\n",
    "\n",
    "[Ultralytics' YOLOv5](https://ultralytics.com/yolov5) (\"You Only Look Once\") model family enables real-time object detection with convolutional neural networks. \n",
    "\n",
    "## 🦄 What is Weights and Biases?\n",
    "\n",
    "Weights & Biases (W&B) is a set of machine learning tools that helps you build better models faster. Check out [Experiment Tracking with Weights and Biases](https://www.kaggle.com/ayuraj/experiment-tracking-with-weights-and-biases) to learn more.  \n",
    "Weights & Biases is directly integrated into YOLOv5, providing experiment metric tracking, model and dataset versioning, rich model prediction visualization, and more.\n",
    "\n",
    "\n",
    "It's a work in progress:\n",
    "\n",
    "✔️ Required folder structure. <br>\n",
    "✔️ Bounding box format required for YOLOv5. <br>\n",
    "✔️ **Train** a small YOLOv5 model. <br>\n",
    "✔️ Experiment tracking with W&B. <br>\n",
    "✔️ Proper documentation <br>\n",
    "✔️ Inference <br>\n",
    "\n",
    "❌ Model prediction visualization. \n",
    "\n",
    "## Results \n",
    "\n",
    "### [Check out W&B Run Page $\\rightarrow$](https://wandb.ai/ayush-thakur/kaggle-siim-covid/runs/1bk93e3j)\n",
    "\n",
    "![img](https://i.imgur.com/quOYtNN.gif)"
   ]
  },
  {
   "cell_type": "markdown",
   "metadata": {},
   "source": [
    "# ☀️ Imports and Setup\n",
    "\n",
    "According to the official [Train Custom Data](https://github.com/ultralytics/yolov5/wiki/Train-Custom-Data) guide, YOLOv5 requires a certain directory structure. \n",
    "\n",
    "```\n",
    "/parent_folder\n",
    "    /dataset\n",
    "         /images\n",
    "         /labels\n",
    "    /yolov5\n",
    "```\n",
    "\n",
    "* We thus will create a `/tmp` directory. <br>\n",
    "* Download YOLOv5 repository and pip install the required dependencies. <br>\n",
    "* Install the latest version of W&B and login with your wandb account. You can create your free W&B account [here](https://wandb.ai/site)."
   ]
  },
  {
   "cell_type": "code",
   "execution_count": 5,
   "metadata": {
    "execution": {
     "iopub.execute_input": "2021-06-09T15:14:13.006074Z",
     "iopub.status.busy": "2021-06-09T15:14:13.005817Z",
     "iopub.status.idle": "2021-06-09T15:14:13.011752Z",
     "shell.execute_reply": "2021-06-09T15:14:13.010889Z",
     "shell.execute_reply.started": "2021-06-09T15:14:13.006050Z"
    }
   },
   "outputs": [
    {
     "ename": "FileExistsError",
     "evalue": "[WinError 183] 파일이 이미 있으므로 만들 수 없습니다: '/kaggle/working/tmp'",
     "output_type": "error",
     "traceback": [
      "\u001b[1;31m---------------------------------------------------------------------------\u001b[0m",
      "\u001b[1;31mFileExistsError\u001b[0m                           Traceback (most recent call last)",
      "\u001b[1;32m<ipython-input-5-6468aebd4dbb>\u001b[0m in \u001b[0;36m<module>\u001b[1;34m\u001b[0m\n\u001b[0;32m      3\u001b[0m \u001b[1;31m# %cd tmp\u001b[0m\u001b[1;33m\u001b[0m\u001b[1;33m\u001b[0m\u001b[0m\n\u001b[0;32m      4\u001b[0m \u001b[1;32mimport\u001b[0m \u001b[0mos\u001b[0m\u001b[1;33m\u001b[0m\u001b[0m\n\u001b[1;32m----> 5\u001b[1;33m \u001b[0mos\u001b[0m\u001b[1;33m.\u001b[0m\u001b[0mmakedirs\u001b[0m\u001b[1;33m(\u001b[0m\u001b[1;34m'/kaggle/working/tmp'\u001b[0m\u001b[1;33m)\u001b[0m\u001b[1;33m\u001b[0m\u001b[0m\n\u001b[0m\u001b[0;32m      6\u001b[0m \u001b[0mget_ipython\u001b[0m\u001b[1;33m(\u001b[0m\u001b[1;33m)\u001b[0m\u001b[1;33m.\u001b[0m\u001b[0mrun_line_magic\u001b[0m\u001b[1;33m(\u001b[0m\u001b[1;34m'cd'\u001b[0m\u001b[1;33m,\u001b[0m \u001b[1;34m'/kaggle/working/tmp'\u001b[0m\u001b[1;33m)\u001b[0m\u001b[1;33m\u001b[0m\u001b[0m\n",
      "\u001b[1;32mc:\\users\\hekim\\appdata\\local\\programs\\python\\python36\\lib\\os.py\u001b[0m in \u001b[0;36mmakedirs\u001b[1;34m(name, mode, exist_ok)\u001b[0m\n\u001b[0;32m    218\u001b[0m             \u001b[1;32mreturn\u001b[0m\u001b[1;33m\u001b[0m\u001b[0m\n\u001b[0;32m    219\u001b[0m     \u001b[1;32mtry\u001b[0m\u001b[1;33m:\u001b[0m\u001b[1;33m\u001b[0m\u001b[0m\n\u001b[1;32m--> 220\u001b[1;33m         \u001b[0mmkdir\u001b[0m\u001b[1;33m(\u001b[0m\u001b[0mname\u001b[0m\u001b[1;33m,\u001b[0m \u001b[0mmode\u001b[0m\u001b[1;33m)\u001b[0m\u001b[1;33m\u001b[0m\u001b[0m\n\u001b[0m\u001b[0;32m    221\u001b[0m     \u001b[1;32mexcept\u001b[0m \u001b[0mOSError\u001b[0m\u001b[1;33m:\u001b[0m\u001b[1;33m\u001b[0m\u001b[0m\n\u001b[0;32m    222\u001b[0m         \u001b[1;31m# Cannot rely on checking for EEXIST, since the operating system\u001b[0m\u001b[1;33m\u001b[0m\u001b[1;33m\u001b[0m\u001b[0m\n",
      "\u001b[1;31mFileExistsError\u001b[0m: [WinError 183] 파일이 이미 있으므로 만들 수 없습니다: '/kaggle/working/tmp'"
     ]
    }
   ],
   "source": [
    "# %cd ../\n",
    "# !mkdir tmp\n",
    "# %cd tmp\n",
    "import os\n",
    "os.makedirs('/kaggle/working/tmp')\n",
    "%cd /kaggle/working/tmp"
   ]
  },
  {
   "cell_type": "code",
   "execution_count": 7,
   "metadata": {
    "execution": {
     "iopub.execute_input": "2021-06-09T15:14:13.016431Z",
     "iopub.status.busy": "2021-06-09T15:14:13.016121Z",
     "iopub.status.idle": "2021-06-09T15:14:23.348976Z",
     "shell.execute_reply": "2021-06-09T15:14:23.347550Z",
     "shell.execute_reply.started": "2021-06-09T15:14:13.016404Z"
    }
   },
   "outputs": [
    {
     "name": "stdout",
     "output_type": "stream",
     "text": [
      "C:\\kaggle\\working\\tmp\\yolov5\n",
      "Note: you may need to restart the kernel to use updated packages.\n",
      "C:\\kaggle\\working\\tmp\n",
      "Setup complete. Using torch 1.8.1+cpu (CPU)\n"
     ]
    },
    {
     "name": "stderr",
     "output_type": "stream",
     "text": [
      "Invalid requirement: '#'\n",
      "Traceback (most recent call last):\n",
      "  File \"c:\\users\\hekim\\appdata\\local\\programs\\python\\python36\\lib\\site-packages\\pip\\_vendor\\packaging\\requirements.py\", line 92, in __init__\n",
      "    req = REQUIREMENT.parseString(requirement_string)\n",
      "  File \"c:\\users\\hekim\\appdata\\local\\programs\\python\\python36\\lib\\site-packages\\pip\\_vendor\\pyparsing.py\", line 1617, in parseString\n",
      "    raise exc\n",
      "  File \"c:\\users\\hekim\\appdata\\local\\programs\\python\\python36\\lib\\site-packages\\pip\\_vendor\\pyparsing.py\", line 1607, in parseString\n",
      "    loc, tokens = self._parse( instring, 0 )\n",
      "  File \"c:\\users\\hekim\\appdata\\local\\programs\\python\\python36\\lib\\site-packages\\pip\\_vendor\\pyparsing.py\", line 1379, in _parseNoCache\n",
      "    loc,tokens = self.parseImpl( instring, preloc, doActions )\n",
      "  File \"c:\\users\\hekim\\appdata\\local\\programs\\python\\python36\\lib\\site-packages\\pip\\_vendor\\pyparsing.py\", line 3376, in parseImpl\n",
      "    loc, exprtokens = e._parse( instring, loc, doActions )\n",
      "  File \"c:\\users\\hekim\\appdata\\local\\programs\\python\\python36\\lib\\site-packages\\pip\\_vendor\\pyparsing.py\", line 1379, in _parseNoCache\n",
      "    loc,tokens = self.parseImpl( instring, preloc, doActions )\n",
      "  File \"c:\\users\\hekim\\appdata\\local\\programs\\python\\python36\\lib\\site-packages\\pip\\_vendor\\pyparsing.py\", line 3698, in parseImpl\n",
      "    return self.expr._parse( instring, loc, doActions, callPreParse=False )\n",
      "  File \"c:\\users\\hekim\\appdata\\local\\programs\\python\\python36\\lib\\site-packages\\pip\\_vendor\\pyparsing.py\", line 1379, in _parseNoCache\n",
      "    loc,tokens = self.parseImpl( instring, preloc, doActions )\n",
      "  File \"c:\\users\\hekim\\appdata\\local\\programs\\python\\python36\\lib\\site-packages\\pip\\_vendor\\pyparsing.py\", line 3359, in parseImpl\n",
      "    loc, resultlist = self.exprs[0]._parse( instring, loc, doActions, callPreParse=False )\n",
      "  File \"c:\\users\\hekim\\appdata\\local\\programs\\python\\python36\\lib\\site-packages\\pip\\_vendor\\pyparsing.py\", line 1383, in _parseNoCache\n",
      "    loc,tokens = self.parseImpl( instring, preloc, doActions )\n",
      "  File \"c:\\users\\hekim\\appdata\\local\\programs\\python\\python36\\lib\\site-packages\\pip\\_vendor\\pyparsing.py\", line 2670, in parseImpl\n",
      "    raise ParseException(instring, loc, self.errmsg, self)\n",
      "pip._vendor.pyparsing.ParseException: Expected W:(abcd...) (at char 0), (line:1, col:1)\n",
      "\n",
      "During handling of the above exception, another exception occurred:\n",
      "\n",
      "Traceback (most recent call last):\n",
      "  File \"c:\\users\\hekim\\appdata\\local\\programs\\python\\python36\\lib\\site-packages\\pip\\req\\req_install.py\", line 82, in __init__\n",
      "    req = Requirement(req)\n",
      "  File \"c:\\users\\hekim\\appdata\\local\\programs\\python\\python36\\lib\\site-packages\\pip\\_vendor\\packaging\\requirements.py\", line 96, in __init__\n",
      "    requirement_string[e.loc:e.loc + 8]))\n",
      "pip._vendor.packaging.requirements.InvalidRequirement: Invalid requirement, parse error at \"'#'\"\n",
      "\n"
     ]
    }
   ],
   "source": [
    "# Download YOLOv5\n",
    "# !git clone https://github.com/ultralytics/yolov5  # clone repo\n",
    "# %cd /kaggle/working/tmp\n",
    "# print (os.getcwd())\n",
    "%cd yolov5\n",
    "# Install dependencies\n",
    "%pip install -qr requirements.txt  # install dependencies\n",
    "\n",
    "%cd ../\n",
    "import torch\n",
    "print(f\"Setup complete. Using torch {torch.__version__} ({torch.cuda.get_device_properties(0).name if torch.cuda.is_available() else 'CPU'})\")"
   ]
  },
  {
   "cell_type": "code",
   "execution_count": 8,
   "metadata": {
    "execution": {
     "iopub.execute_input": "2021-06-09T15:14:23.351075Z",
     "iopub.status.busy": "2021-06-09T15:14:23.350700Z",
     "iopub.status.idle": "2021-06-09T15:14:35.808974Z",
     "shell.execute_reply": "2021-06-09T15:14:35.808150Z",
     "shell.execute_reply.started": "2021-06-09T15:14:23.351030Z"
    }
   },
   "outputs": [
    {
     "name": "stderr",
     "output_type": "stream",
     "text": [
      "\u001b[34m\u001b[1mwandb\u001b[0m: Currently logged in as: \u001b[33mhekim34\u001b[0m (use `wandb login --relogin` to force relogin)\n"
     ]
    },
    {
     "data": {
      "text/plain": [
       "True"
      ]
     },
     "execution_count": 8,
     "metadata": {},
     "output_type": "execute_result"
    }
   ],
   "source": [
    "# Install W&B \n",
    "!pip install -q --upgrade wandb\n",
    "# Login \n",
    "import wandb\n",
    "wandb.login()"
   ]
  },
  {
   "cell_type": "code",
   "execution_count": 9,
   "metadata": {
    "_cell_guid": "b1076dfc-b9ad-4769-8c92-a6c4dae69d19",
    "_uuid": "8f2839f25d086af736a60e9eeb907d3b93b6e0e5",
    "execution": {
     "iopub.execute_input": "2021-06-09T15:14:35.811311Z",
     "iopub.status.busy": "2021-06-09T15:14:35.810954Z",
     "iopub.status.idle": "2021-06-09T15:14:36.854313Z",
     "shell.execute_reply": "2021-06-09T15:14:36.853478Z",
     "shell.execute_reply.started": "2021-06-09T15:14:35.811261Z"
    }
   },
   "outputs": [],
   "source": [
    "# Necessary/extra dependencies. \n",
    "import os\n",
    "import gc\n",
    "import cv2\n",
    "import numpy as np\n",
    "import pandas as pd\n",
    "from tqdm import tqdm\n",
    "from shutil import copyfile\n",
    "import matplotlib.pyplot as plt\n",
    "from sklearn.model_selection import train_test_split\n",
    "\n",
    "#customize iPython writefile so we can write variables\n",
    "from IPython.core.magic import register_line_cell_magic\n",
    "\n",
    "@register_line_cell_magic\n",
    "def writetemplate(line, cell):\n",
    "    with open(line, 'w') as f:\n",
    "        f.write(cell.format(**globals()))"
   ]
  },
  {
   "cell_type": "markdown",
   "metadata": {},
   "source": [
    "# 🦆 Hyperparameters"
   ]
  },
  {
   "cell_type": "code",
   "execution_count": 10,
   "metadata": {
    "execution": {
     "iopub.execute_input": "2021-06-09T15:14:36.856209Z",
     "iopub.status.busy": "2021-06-09T15:14:36.855856Z",
     "iopub.status.idle": "2021-06-09T15:14:36.863606Z",
     "shell.execute_reply": "2021-06-09T15:14:36.862829Z",
     "shell.execute_reply.started": "2021-06-09T15:14:36.856141Z"
    }
   },
   "outputs": [],
   "source": [
    "TRAIN_PATH = '/kaggle/input/siim-covid19-resized-to-256px-jpg/train/'\n",
    "IMG_SIZE = 256\n",
    "BATCH_SIZE = 16\n",
    "EPOCHS = 10"
   ]
  },
  {
   "cell_type": "markdown",
   "metadata": {},
   "source": [
    "# 🔨 Prepare Dataset\n",
    "\n",
    "This is the most important section when it comes to training an object detector with YOLOv5. The directory structure, bounding box format, etc must be in the correct order. This section builds every piece needed to train a YOLOv5 model.\n",
    "\n",
    "I am using [xhlulu's](https://www.kaggle.com/xhlulu) resized dataset. The uploaded 256x256 Kaggle dataset is [here](https://www.kaggle.com/xhlulu/siim-covid19-resized-to-256px-jpg). Find other image resolutions [here](https://www.kaggle.com/c/siim-covid19-detection/discussion/239918).\n",
    "\n",
    "* Create train-validation split. <br>\n",
    "* Create required `/dataset` folder structure and more the images to that folder. <br>\n",
    "* Create `data.yaml` file needed to train the model. <br>\n",
    "* Create bounding box coordinates in the required YOLO format. "
   ]
  },
  {
   "cell_type": "code",
   "execution_count": 11,
   "metadata": {
    "execution": {
     "iopub.execute_input": "2021-06-09T15:14:36.866987Z",
     "iopub.status.busy": "2021-06-09T15:14:36.866638Z",
     "iopub.status.idle": "2021-06-09T15:14:37.355912Z",
     "shell.execute_reply": "2021-06-09T15:14:37.355111Z",
     "shell.execute_reply.started": "2021-06-09T15:14:36.866949Z"
    }
   },
   "outputs": [
    {
     "name": "stdout",
     "output_type": "stream",
     "text": [
      "C:\\kaggle\\working\n"
     ]
    },
    {
     "data": {
      "text/html": [
       "<div>\n",
       "<style scoped>\n",
       "    .dataframe tbody tr th:only-of-type {\n",
       "        vertical-align: middle;\n",
       "    }\n",
       "\n",
       "    .dataframe tbody tr th {\n",
       "        vertical-align: top;\n",
       "    }\n",
       "\n",
       "    .dataframe thead th {\n",
       "        text-align: right;\n",
       "    }\n",
       "</style>\n",
       "<table border=\"1\" class=\"dataframe\">\n",
       "  <thead>\n",
       "    <tr style=\"text-align: right;\">\n",
       "      <th></th>\n",
       "      <th>id</th>\n",
       "      <th>boxes</th>\n",
       "      <th>label</th>\n",
       "      <th>StudyInstanceUID</th>\n",
       "      <th>path</th>\n",
       "      <th>image_level</th>\n",
       "    </tr>\n",
       "  </thead>\n",
       "  <tbody>\n",
       "    <tr>\n",
       "      <th>0</th>\n",
       "      <td>000a312787f2</td>\n",
       "      <td>[{'x': 789.28836, 'y': 582.43035, 'width': 102...</td>\n",
       "      <td>opacity 1 789.28836 582.43035 1815.94498 2499....</td>\n",
       "      <td>5776db0cec75</td>\n",
       "      <td>/kaggle/input/siim-covid19-resized-to-256px-jp...</td>\n",
       "      <td>opacity</td>\n",
       "    </tr>\n",
       "    <tr>\n",
       "      <th>1</th>\n",
       "      <td>000c3a3f293f</td>\n",
       "      <td>NaN</td>\n",
       "      <td>none 1 0 0 1 1</td>\n",
       "      <td>ff0879eb20ed</td>\n",
       "      <td>/kaggle/input/siim-covid19-resized-to-256px-jp...</td>\n",
       "      <td>none</td>\n",
       "    </tr>\n",
       "    <tr>\n",
       "      <th>2</th>\n",
       "      <td>0012ff7358bc</td>\n",
       "      <td>[{'x': 677.42216, 'y': 197.97662, 'width': 867...</td>\n",
       "      <td>opacity 1 677.42216 197.97662 1545.21983 1197....</td>\n",
       "      <td>9d514ce429a7</td>\n",
       "      <td>/kaggle/input/siim-covid19-resized-to-256px-jp...</td>\n",
       "      <td>opacity</td>\n",
       "    </tr>\n",
       "    <tr>\n",
       "      <th>3</th>\n",
       "      <td>001398f4ff4f</td>\n",
       "      <td>[{'x': 2729, 'y': 2181.33331, 'width': 948.000...</td>\n",
       "      <td>opacity 1 2729 2181.33331 3677.00012 2785.33331</td>\n",
       "      <td>28dddc8559b2</td>\n",
       "      <td>/kaggle/input/siim-covid19-resized-to-256px-jp...</td>\n",
       "      <td>opacity</td>\n",
       "    </tr>\n",
       "    <tr>\n",
       "      <th>4</th>\n",
       "      <td>001bd15d1891</td>\n",
       "      <td>[{'x': 623.23328, 'y': 1050, 'width': 714, 'he...</td>\n",
       "      <td>opacity 1 623.23328 1050 1337.23328 2156 opaci...</td>\n",
       "      <td>dfd9fdd85a3e</td>\n",
       "      <td>/kaggle/input/siim-covid19-resized-to-256px-jp...</td>\n",
       "      <td>opacity</td>\n",
       "    </tr>\n",
       "  </tbody>\n",
       "</table>\n",
       "</div>"
      ],
      "text/plain": [
       "             id                                              boxes  \\\n",
       "0  000a312787f2  [{'x': 789.28836, 'y': 582.43035, 'width': 102...   \n",
       "1  000c3a3f293f                                                NaN   \n",
       "2  0012ff7358bc  [{'x': 677.42216, 'y': 197.97662, 'width': 867...   \n",
       "3  001398f4ff4f  [{'x': 2729, 'y': 2181.33331, 'width': 948.000...   \n",
       "4  001bd15d1891  [{'x': 623.23328, 'y': 1050, 'width': 714, 'he...   \n",
       "\n",
       "                                               label StudyInstanceUID  \\\n",
       "0  opacity 1 789.28836 582.43035 1815.94498 2499....     5776db0cec75   \n",
       "1                                     none 1 0 0 1 1     ff0879eb20ed   \n",
       "2  opacity 1 677.42216 197.97662 1545.21983 1197....     9d514ce429a7   \n",
       "3    opacity 1 2729 2181.33331 3677.00012 2785.33331     28dddc8559b2   \n",
       "4  opacity 1 623.23328 1050 1337.23328 2156 opaci...     dfd9fdd85a3e   \n",
       "\n",
       "                                                path image_level  \n",
       "0  /kaggle/input/siim-covid19-resized-to-256px-jp...     opacity  \n",
       "1  /kaggle/input/siim-covid19-resized-to-256px-jp...        none  \n",
       "2  /kaggle/input/siim-covid19-resized-to-256px-jp...     opacity  \n",
       "3  /kaggle/input/siim-covid19-resized-to-256px-jp...     opacity  \n",
       "4  /kaggle/input/siim-covid19-resized-to-256px-jp...     opacity  "
      ]
     },
     "execution_count": 11,
     "metadata": {},
     "output_type": "execute_result"
    }
   ],
   "source": [
    "# Everything is done from /kaggle directory.\n",
    "%cd ../\n",
    "\n",
    "# Load image level csv file\n",
    "df = pd.read_csv('/kaggle/input/siim-covid19-detection/train_image_level.csv')\n",
    "\n",
    "# Modify values in the id column\n",
    "df['id'] = df.apply(lambda row: row.id.split('_')[0], axis=1)\n",
    "# Add absolute path\n",
    "df['path'] = df.apply(lambda row: TRAIN_PATH+row.id+'.jpg', axis=1)\n",
    "# Get image level labels\n",
    "df['image_level'] = df.apply(lambda row: row.label.split(' ')[0], axis=1)\n",
    "\n",
    "df.head(5)"
   ]
  },
  {
   "cell_type": "code",
   "execution_count": 12,
   "metadata": {
    "execution": {
     "iopub.execute_input": "2021-06-09T15:14:37.361573Z",
     "iopub.status.busy": "2021-06-09T15:14:37.359549Z",
     "iopub.status.idle": "2021-06-09T15:14:37.399422Z",
     "shell.execute_reply": "2021-06-09T15:14:37.398699Z",
     "shell.execute_reply.started": "2021-06-09T15:14:37.361533Z"
    }
   },
   "outputs": [
    {
     "data": {
      "text/html": [
       "<div>\n",
       "<style scoped>\n",
       "    .dataframe tbody tr th:only-of-type {\n",
       "        vertical-align: middle;\n",
       "    }\n",
       "\n",
       "    .dataframe tbody tr th {\n",
       "        vertical-align: top;\n",
       "    }\n",
       "\n",
       "    .dataframe thead th {\n",
       "        text-align: right;\n",
       "    }\n",
       "</style>\n",
       "<table border=\"1\" class=\"dataframe\">\n",
       "  <thead>\n",
       "    <tr style=\"text-align: right;\">\n",
       "      <th></th>\n",
       "      <th>id</th>\n",
       "      <th>dim0</th>\n",
       "      <th>dim1</th>\n",
       "    </tr>\n",
       "  </thead>\n",
       "  <tbody>\n",
       "    <tr>\n",
       "      <th>1263</th>\n",
       "      <td>d8ba599611e5</td>\n",
       "      <td>2336</td>\n",
       "      <td>2836</td>\n",
       "    </tr>\n",
       "    <tr>\n",
       "      <th>1264</th>\n",
       "      <td>29b23a11d1e4</td>\n",
       "      <td>3488</td>\n",
       "      <td>4256</td>\n",
       "    </tr>\n",
       "  </tbody>\n",
       "</table>\n",
       "</div>"
      ],
      "text/plain": [
       "                id  dim0  dim1\n",
       "1263  d8ba599611e5  2336  2836\n",
       "1264  29b23a11d1e4  3488  4256"
      ]
     },
     "execution_count": 12,
     "metadata": {},
     "output_type": "execute_result"
    }
   ],
   "source": [
    "# Load meta.csv file\n",
    "# Original dimensions are required to scale the bounding box coordinates appropriately.\n",
    "meta_df = pd.read_csv('/kaggle/input/siim-covid19-resized-to-256px-jpg/meta.csv')\n",
    "train_meta_df = meta_df.loc[meta_df.split == 'train']\n",
    "train_meta_df = train_meta_df.drop('split', axis=1)\n",
    "train_meta_df.columns = ['id', 'dim0', 'dim1']\n",
    "\n",
    "train_meta_df.head(2)"
   ]
  },
  {
   "cell_type": "code",
   "execution_count": 13,
   "metadata": {
    "execution": {
     "iopub.execute_input": "2021-06-09T15:14:37.405116Z",
     "iopub.status.busy": "2021-06-09T15:14:37.403201Z",
     "iopub.status.idle": "2021-06-09T15:14:37.437558Z",
     "shell.execute_reply": "2021-06-09T15:14:37.436828Z",
     "shell.execute_reply.started": "2021-06-09T15:14:37.405076Z"
    }
   },
   "outputs": [
    {
     "data": {
      "text/html": [
       "<div>\n",
       "<style scoped>\n",
       "    .dataframe tbody tr th:only-of-type {\n",
       "        vertical-align: middle;\n",
       "    }\n",
       "\n",
       "    .dataframe tbody tr th {\n",
       "        vertical-align: top;\n",
       "    }\n",
       "\n",
       "    .dataframe thead th {\n",
       "        text-align: right;\n",
       "    }\n",
       "</style>\n",
       "<table border=\"1\" class=\"dataframe\">\n",
       "  <thead>\n",
       "    <tr style=\"text-align: right;\">\n",
       "      <th></th>\n",
       "      <th>id</th>\n",
       "      <th>boxes</th>\n",
       "      <th>label</th>\n",
       "      <th>StudyInstanceUID</th>\n",
       "      <th>path</th>\n",
       "      <th>image_level</th>\n",
       "      <th>dim0</th>\n",
       "      <th>dim1</th>\n",
       "    </tr>\n",
       "  </thead>\n",
       "  <tbody>\n",
       "    <tr>\n",
       "      <th>0</th>\n",
       "      <td>000a312787f2</td>\n",
       "      <td>[{'x': 789.28836, 'y': 582.43035, 'width': 102...</td>\n",
       "      <td>opacity 1 789.28836 582.43035 1815.94498 2499....</td>\n",
       "      <td>5776db0cec75</td>\n",
       "      <td>/kaggle/input/siim-covid19-resized-to-256px-jp...</td>\n",
       "      <td>opacity</td>\n",
       "      <td>3488</td>\n",
       "      <td>4256</td>\n",
       "    </tr>\n",
       "    <tr>\n",
       "      <th>1</th>\n",
       "      <td>000c3a3f293f</td>\n",
       "      <td>NaN</td>\n",
       "      <td>none 1 0 0 1 1</td>\n",
       "      <td>ff0879eb20ed</td>\n",
       "      <td>/kaggle/input/siim-covid19-resized-to-256px-jp...</td>\n",
       "      <td>none</td>\n",
       "      <td>2320</td>\n",
       "      <td>2832</td>\n",
       "    </tr>\n",
       "  </tbody>\n",
       "</table>\n",
       "</div>"
      ],
      "text/plain": [
       "             id                                              boxes  \\\n",
       "0  000a312787f2  [{'x': 789.28836, 'y': 582.43035, 'width': 102...   \n",
       "1  000c3a3f293f                                                NaN   \n",
       "\n",
       "                                               label StudyInstanceUID  \\\n",
       "0  opacity 1 789.28836 582.43035 1815.94498 2499....     5776db0cec75   \n",
       "1                                     none 1 0 0 1 1     ff0879eb20ed   \n",
       "\n",
       "                                                path image_level  dim0  dim1  \n",
       "0  /kaggle/input/siim-covid19-resized-to-256px-jp...     opacity  3488  4256  \n",
       "1  /kaggle/input/siim-covid19-resized-to-256px-jp...        none  2320  2832  "
      ]
     },
     "execution_count": 13,
     "metadata": {},
     "output_type": "execute_result"
    }
   ],
   "source": [
    "# Merge both the dataframes\n",
    "df = df.merge(train_meta_df, on='id',how=\"left\")\n",
    "df.head(2)"
   ]
  },
  {
   "cell_type": "code",
   "execution_count": 14,
   "metadata": {
    "execution": {
     "iopub.execute_input": "2021-06-09T15:15:05.998718Z",
     "iopub.status.busy": "2021-06-09T15:15:05.998361Z",
     "iopub.status.idle": "2021-06-09T15:15:06.006401Z",
     "shell.execute_reply": "2021-06-09T15:15:06.003260Z",
     "shell.execute_reply.started": "2021-06-09T15:15:05.998687Z"
    }
   },
   "outputs": [
    {
     "data": {
      "text/plain": [
       "\"\\n# Load meta.csv file\\n# Original dimensions are required to scale the bounding box coordinates appropriately.\\nmeta_df = pd.read_csv('/kaggle/input/siim-covid19-updated-train-labels/updated_train_labels.csv')\\ntrain_meta_df = meta_df.loc[meta_df.split == 'train']\\ntrain_meta_df = train_meta_df.drop('split', axis=1)\\ntrain_meta_df.columns = ['id', 'dim0', 'dim1']\\n\\ntrain_meta_df.head(2)\\n\""
      ]
     },
     "execution_count": 14,
     "metadata": {},
     "output_type": "execute_result"
    }
   ],
   "source": [
    "'''\n",
    "# Load meta.csv file\n",
    "# Original dimensions are required to scale the bounding box coordinates appropriately.\n",
    "meta_df = pd.read_csv('/kaggle/input/siim-covid19-updated-train-labels/updated_train_labels.csv')\n",
    "train_meta_df = meta_df.loc[meta_df.split == 'train']\n",
    "train_meta_df = train_meta_df.drop('split', axis=1)\n",
    "train_meta_df.columns = ['id', 'dim0', 'dim1']\n",
    "\n",
    "train_meta_df.head(2)\n",
    "'''"
   ]
  },
  {
   "cell_type": "markdown",
   "metadata": {},
   "source": [
    "## 🍘 Train-validation split"
   ]
  },
  {
   "cell_type": "code",
   "execution_count": 15,
   "metadata": {
    "_kg_hide-input": true,
    "_kg_hide-output": true,
    "execution": {
     "iopub.execute_input": "2021-06-09T15:15:09.015516Z",
     "iopub.status.busy": "2021-06-09T15:15:09.015101Z",
     "iopub.status.idle": "2021-06-09T15:15:09.065706Z",
     "shell.execute_reply": "2021-06-09T15:15:09.064405Z",
     "shell.execute_reply.started": "2021-06-09T15:15:09.015476Z"
    }
   },
   "outputs": [
    {
     "name": "stderr",
     "output_type": "stream",
     "text": [
      "c:\\users\\hekim\\appdata\\local\\programs\\python\\python36\\lib\\site-packages\\pandas\\core\\indexing.py:1596: SettingWithCopyWarning: \n",
      "A value is trying to be set on a copy of a slice from a DataFrame.\n",
      "Try using .loc[row_indexer,col_indexer] = value instead\n",
      "\n",
      "See the caveats in the documentation: https://pandas.pydata.org/pandas-docs/stable/user_guide/indexing.html#returning-a-view-versus-a-copy\n",
      "  self.obj[key] = _infer_fill_value(value)\n",
      "c:\\users\\hekim\\appdata\\local\\programs\\python\\python36\\lib\\site-packages\\pandas\\core\\indexing.py:1763: SettingWithCopyWarning: \n",
      "A value is trying to be set on a copy of a slice from a DataFrame.\n",
      "Try using .loc[row_indexer,col_indexer] = value instead\n",
      "\n",
      "See the caveats in the documentation: https://pandas.pydata.org/pandas-docs/stable/user_guide/indexing.html#returning-a-view-versus-a-copy\n",
      "  isetter(loc, value)\n"
     ]
    }
   ],
   "source": [
    "# Create train and validation split.\n",
    "train_df, valid_df = train_test_split(df, test_size=0.2, random_state=42, stratify=df.image_level.values)\n",
    "\n",
    "train_df.loc[:, 'split'] = 'train'\n",
    "valid_df.loc[:, 'split'] = 'valid'\n",
    "\n",
    "df = pd.concat([train_df, valid_df]).reset_index(drop=True)"
   ]
  },
  {
   "cell_type": "code",
   "execution_count": 16,
   "metadata": {
    "execution": {
     "iopub.execute_input": "2021-06-09T15:15:09.314832Z",
     "iopub.status.busy": "2021-06-09T15:15:09.312174Z",
     "iopub.status.idle": "2021-06-09T15:15:09.323643Z",
     "shell.execute_reply": "2021-06-09T15:15:09.322555Z",
     "shell.execute_reply.started": "2021-06-09T15:15:09.314786Z"
    }
   },
   "outputs": [
    {
     "name": "stdout",
     "output_type": "stream",
     "text": [
      "Size of dataset: 6334, training images: 5067. validation images: 1267\n"
     ]
    }
   ],
   "source": [
    "print(f'Size of dataset: {len(df)}, training images: {len(train_df)}. validation images: {len(valid_df)}')"
   ]
  },
  {
   "cell_type": "markdown",
   "metadata": {},
   "source": [
    "## 🍚 Prepare Required Folder Structure\n",
    "\n",
    "The required folder structure for the dataset directory is: \n",
    "\n",
    "```\n",
    "/parent_folder\n",
    "    /dataset\n",
    "         /images\n",
    "             /train\n",
    "             /val\n",
    "         /labels\n",
    "             /train\n",
    "             /val\n",
    "    /yolov5\n",
    "```\n",
    "\n",
    "Note that I have named the directory `covid`."
   ]
  },
  {
   "cell_type": "code",
   "execution_count": 17,
   "metadata": {
    "execution": {
     "iopub.execute_input": "2021-06-09T15:15:09.854619Z",
     "iopub.status.busy": "2021-06-09T15:15:09.854265Z",
     "iopub.status.idle": "2021-06-09T15:15:10.500284Z",
     "shell.execute_reply": "2021-06-09T15:15:10.499351Z",
     "shell.execute_reply.started": "2021-06-09T15:15:09.854585Z"
    }
   },
   "outputs": [
    {
     "name": "stdout",
     "output_type": "stream",
     "text": [
      "train\n",
      "valid\n"
     ]
    }
   ],
   "source": [
    "os.makedirs('/kaggle/working/tmp/covid/images/train', exist_ok=True)\n",
    "os.makedirs('/kaggle/working/tmp/covid/images/valid', exist_ok=True)\n",
    "\n",
    "os.makedirs('/kaggle/working/tmp/covid/labels/train', exist_ok=True)\n",
    "os.makedirs('/kaggle/working/tmp/covid/labels/valid', exist_ok=True)\n",
    "\n",
    "! ls tmp/covid/images"
   ]
  },
  {
   "cell_type": "code",
   "execution_count": 18,
   "metadata": {
    "execution": {
     "iopub.execute_input": "2021-06-09T15:15:10.503767Z",
     "iopub.status.busy": "2021-06-09T15:15:10.503476Z",
     "iopub.status.idle": "2021-06-09T15:15:42.561990Z",
     "shell.execute_reply": "2021-06-09T15:15:42.561034Z",
     "shell.execute_reply.started": "2021-06-09T15:15:10.503735Z"
    }
   },
   "outputs": [
    {
     "name": "stderr",
     "output_type": "stream",
     "text": [
      "100%|██████████| 6334/6334 [00:46<00:00, 136.30it/s]\n"
     ]
    }
   ],
   "source": [
    "# Move the images to relevant split folder.\n",
    "for i in tqdm(range(len(df))):\n",
    "    row = df.loc[i]\n",
    "    if row.split == 'train':\n",
    "        copyfile(row.path, f'/kaggle/working/tmp/covid/images/train/{row.id}.jpg')\n",
    "    else:\n",
    "        copyfile(row.path, f'/kaggle/working/tmp/covid/images/valid/{row.id}.jpg')"
   ]
  },
  {
   "cell_type": "markdown",
   "metadata": {},
   "source": [
    "## 🍜 Create `.YAML` file\n",
    "\n",
    "The `data.yaml`, is the dataset configuration file that defines \n",
    "\n",
    "1. an \"optional\" download command/URL for auto-downloading, \n",
    "2. a path to a directory of training images (or path to a *.txt file with a list of training images), \n",
    "3. a path to a directory of validation images (or path to a *.txt file with a list of validation images), \n",
    "4. the number of classes, \n",
    "5. a list of class names.\n",
    "\n",
    "> 📍 Important: In this competition, each image can either belong to `opacity` or `none` image-level labels. That's why I have  used the number of classes, `nc` to be 2. YOLOv5 automatically handles the images without any bounding box coordinates. \n",
    "\n",
    "> 📍 Note: The `data.yaml` is created in the `yolov5/data` directory as required. "
   ]
  },
  {
   "cell_type": "code",
   "execution_count": 20,
   "metadata": {
    "execution": {
     "iopub.execute_input": "2021-06-09T15:15:42.564115Z",
     "iopub.status.busy": "2021-06-09T15:15:42.563771Z",
     "iopub.status.idle": "2021-06-09T15:15:43.204282Z",
     "shell.execute_reply": "2021-06-09T15:15:43.203389Z",
     "shell.execute_reply.started": "2021-06-09T15:15:42.564078Z"
    }
   },
   "outputs": [],
   "source": [
    "# Create .yaml file \n",
    "import yaml\n",
    "\n",
    "data_yaml = dict(\n",
    "    train = '../covid/images/train',\n",
    "    val = '../covid/images/valid',\n",
    "    nc = 2,\n",
    "    names = ['none', 'opacity']\n",
    ")\n",
    "\n",
    "# Note that I am creating the file in the yolov5/data/ directory.\n",
    "with open('/kaggle/working/tmp/yolov5/data/data.yaml', 'w') as outfile:\n",
    "    yaml.dump(data_yaml, outfile, default_flow_style=True)\n",
    "    \n",
    "# %cat tmp/yolov5/data/data.yaml"
   ]
  },
  {
   "cell_type": "markdown",
   "metadata": {},
   "source": [
    "## 🍮 Prepare Bounding Box Coordinated for YOLOv5\n",
    "\n",
    "For every image with **bounding box(es)** a `.txt` file with the same name as the image will be created in the format shown below:\n",
    "\n",
    "* One row per object. <br>\n",
    "* Each row is class `x_center y_center width height format`. <br>\n",
    "* Box coordinates must be in normalized xywh format (from 0 - 1). We can normalize by the boxes in pixels by dividing `x_center` and `width` by image width, and `y_center` and `height` by image height. <br>\n",
    "* Class numbers are zero-indexed (start from 0). <br>\n",
    "\n",
    "> 📍 Note: We don't have to remove the images without bounding boxes from the training or validation sets. "
   ]
  },
  {
   "cell_type": "code",
   "execution_count": 21,
   "metadata": {
    "execution": {
     "iopub.execute_input": "2021-06-09T15:15:43.208013Z",
     "iopub.status.busy": "2021-06-09T15:15:43.207720Z",
     "iopub.status.idle": "2021-06-09T15:15:43.219144Z",
     "shell.execute_reply": "2021-06-09T15:15:43.218309Z",
     "shell.execute_reply.started": "2021-06-09T15:15:43.207962Z"
    }
   },
   "outputs": [],
   "source": [
    "# Get the raw bounding box by parsing the row value of the label column.\n",
    "# Ref: https://www.kaggle.com/yujiariyasu/plot-3positive-classes\n",
    "def get_bbox(row):\n",
    "    bboxes = []\n",
    "    bbox = []\n",
    "    for i, l in enumerate(row.label.split(' ')):\n",
    "        if (i % 6 == 0) | (i % 6 == 1):\n",
    "            continue\n",
    "        bbox.append(float(l))\n",
    "        if i % 6 == 5:\n",
    "            bboxes.append(bbox)\n",
    "            bbox = []  \n",
    "            \n",
    "    return bboxes\n",
    "\n",
    "# Scale the bounding boxes according to the size of the resized image. \n",
    "def scale_bbox(row, bboxes):\n",
    "    # Get scaling factor\n",
    "    scale_x = IMG_SIZE/row.dim1\n",
    "    scale_y = IMG_SIZE/row.dim0\n",
    "    \n",
    "    scaled_bboxes = []\n",
    "    for bbox in bboxes:\n",
    "        x = int(np.round(bbox[0]*scale_x, 4))\n",
    "        y = int(np.round(bbox[1]*scale_y, 4))\n",
    "        x1 = int(np.round(bbox[2]*(scale_x), 4))\n",
    "        y1= int(np.round(bbox[3]*scale_y, 4))\n",
    "\n",
    "        scaled_bboxes.append([x, y, x1, y1]) # xmin, ymin, xmax, ymax\n",
    "        \n",
    "    return scaled_bboxes\n",
    "\n",
    "# Convert the bounding boxes in YOLO format.\n",
    "def get_yolo_format_bbox(img_w, img_h, bboxes):\n",
    "    yolo_boxes = []\n",
    "    for bbox in bboxes:\n",
    "        w = bbox[2] - bbox[0] # xmax - xmin\n",
    "        h = bbox[3] - bbox[1] # ymax - ymin\n",
    "        xc = bbox[0] + int(np.round(w/2)) # xmin + width/2\n",
    "        yc = bbox[1] + int(np.round(h/2)) # ymin + height/2\n",
    "        \n",
    "        yolo_boxes.append([xc/img_w, yc/img_h, w/img_w, h/img_h]) # x_center y_center width height\n",
    "    \n",
    "    return yolo_boxes"
   ]
  },
  {
   "cell_type": "code",
   "execution_count": 22,
   "metadata": {
    "execution": {
     "iopub.execute_input": "2021-06-09T15:15:43.221206Z",
     "iopub.status.busy": "2021-06-09T15:15:43.220576Z",
     "iopub.status.idle": "2021-06-09T15:15:45.812295Z",
     "shell.execute_reply": "2021-06-09T15:15:45.811273Z",
     "shell.execute_reply.started": "2021-06-09T15:15:43.221167Z"
    }
   },
   "outputs": [
    {
     "name": "stderr",
     "output_type": "stream",
     "text": [
      "100%|██████████| 6334/6334 [00:06<00:00, 916.48it/s]\n"
     ]
    }
   ],
   "source": [
    "# Prepare the txt files for bounding box\n",
    "for i in tqdm(range(len(df))):\n",
    "    row = df.loc[i]\n",
    "    # Get image id\n",
    "    img_id = row.id\n",
    "    # Get split\n",
    "    split = row.split\n",
    "    # Get image-level label\n",
    "    label = row.image_level\n",
    "    \n",
    "    if row.split=='train':\n",
    "        file_name = f'/kaggle/working/tmp/covid/labels/train/{row.id}.txt'\n",
    "    else:\n",
    "        file_name = f'/kaggle/working/tmp/covid/labels/valid/{row.id}.txt'\n",
    "        \n",
    "    \n",
    "    if label=='opacity':\n",
    "        # Get bboxes\n",
    "        bboxes = get_bbox(row)\n",
    "        # Scale bounding boxes\n",
    "        scale_bboxes = scale_bbox(row, bboxes)\n",
    "        # Format for YOLOv5\n",
    "        yolo_bboxes = get_yolo_format_bbox(IMG_SIZE, IMG_SIZE, scale_bboxes)\n",
    "        \n",
    "        with open(file_name, 'w') as f:\n",
    "            for bbox in yolo_bboxes:\n",
    "                bbox = [1]+bbox\n",
    "                bbox = [str(i) for i in bbox]\n",
    "                bbox = ' '.join(bbox)\n",
    "                f.write(bbox)\n",
    "                f.write('\\n')"
   ]
  },
  {
   "cell_type": "markdown",
   "metadata": {},
   "source": [
    "# 🚅 Train with W&B\n",
    "\n"
   ]
  },
  {
   "cell_type": "code",
   "execution_count": null,
   "metadata": {
    "execution": {
     "iopub.execute_input": "2021-05-23T23:38:03.562896Z",
     "iopub.status.busy": "2021-05-23T23:38:03.562575Z",
     "iopub.status.idle": "2021-05-23T23:38:03.5705Z",
     "shell.execute_reply": "2021-05-23T23:38:03.569539Z",
     "shell.execute_reply.started": "2021-05-23T23:38:03.562868Z"
    }
   },
   "outputs": [],
   "source": [
    "%cd tmp/yolov5/"
   ]
  },
  {
   "cell_type": "markdown",
   "metadata": {},
   "source": [
    "```\n",
    "--img {IMG_SIZE} \\ # Input image size.\n",
    "--batch {BATCH_SIZE} \\ # Batch size\n",
    "--epochs {EPOCHS} \\ # Number of epochs\n",
    "--data data.yaml \\ # Configuration file\n",
    "--weights yolov5s.pt \\ # Model name\n",
    "--save_period 1\\ # Save model after interval\n",
    "--project kaggle-siim-covid # W&B project name\n",
    "```"
   ]
  },
  {
   "cell_type": "code",
   "execution_count": null,
   "metadata": {
    "execution": {
     "iopub.execute_input": "2021-05-23T18:13:45.999586Z",
     "iopub.status.busy": "2021-05-23T18:13:45.999265Z",
     "iopub.status.idle": "2021-05-23T18:22:29.021193Z",
     "shell.execute_reply": "2021-05-23T18:22:29.02019Z",
     "shell.execute_reply.started": "2021-05-23T18:13:45.999557Z"
    }
   },
   "outputs": [],
   "source": [
    "!python train.py --img {IMG_SIZE} \\\n",
    "                 --batch {BATCH_SIZE} \\\n",
    "                 --epochs {EPOCHS} \\\n",
    "                 --data data.yaml \\\n",
    "                 --weights yolov5s.pt \\\n",
    "                 --save_period 1\\\n",
    "                 --project kaggle-siim-covid"
   ]
  },
  {
   "cell_type": "markdown",
   "metadata": {},
   "source": [
    "## Model Saved Automatically as Artifact\n",
    "\n",
    "Since it's a kernel based competition, you can easily download the best model from the W&B Artifacts UI and upload as a Kaggle dataset that you can load in your inference kernel (internel disabled).\n",
    "\n",
    "### [Path to saved model $\\rightarrow$](https://wandb.ai/ayush-thakur/kaggle-siim-covid/artifacts/model/run_jbt74n7q_model/4c3ca5752dba99bd227e)\n",
    "\n",
    "![img](https://i.imgur.com/KhRLQvR.png)\n",
    "\n",
    "> 📍 Download the model with the `best` alias tagged to it. "
   ]
  },
  {
   "cell_type": "markdown",
   "metadata": {},
   "source": [
    "# Inference\n",
    "\n",
    "You will probably use a `Submission.ipynb` kernel to run all the predictions. After training a YOLOv5 based object detector -> head to the artifacts page and download the best model -> upload the model as a Kaggle dataset -> Use it with the submission folder. \n",
    "\n",
    "> 📍 Note that you might have to clone the YOLOv5 repository in a Kaggle dataset as well. \n",
    "\n",
    "In this section, I will show you how you can do the inference and modify the predicted bounding box coordinates."
   ]
  },
  {
   "cell_type": "code",
   "execution_count": null,
   "metadata": {
    "execution": {
     "iopub.execute_input": "2021-05-23T19:07:49.662836Z",
     "iopub.status.busy": "2021-05-23T19:07:49.662496Z",
     "iopub.status.idle": "2021-05-23T19:07:49.66761Z",
     "shell.execute_reply": "2021-05-23T19:07:49.666279Z",
     "shell.execute_reply.started": "2021-05-23T19:07:49.662804Z"
    }
   },
   "outputs": [],
   "source": [
    "TEST_PATH = '/kaggle/input/siim-covid19-resized-to-256px-jpg/test/' # absolute path"
   ]
  },
  {
   "cell_type": "markdown",
   "metadata": {},
   "source": [
    "Since I am training the model in this kernel itself, I will not be using the method that I have described above. The best model is saved in the directory `project_name/exp*/weights/best.pt`. In `exp*`, * can be 1, 2, etc. "
   ]
  },
  {
   "cell_type": "code",
   "execution_count": null,
   "metadata": {
    "execution": {
     "iopub.execute_input": "2021-05-23T19:07:51.844324Z",
     "iopub.status.busy": "2021-05-23T19:07:51.843949Z",
     "iopub.status.idle": "2021-05-23T19:07:51.848162Z",
     "shell.execute_reply": "2021-05-23T19:07:51.847242Z",
     "shell.execute_reply.started": "2021-05-23T19:07:51.844293Z"
    }
   },
   "outputs": [],
   "source": [
    "#MODEL_PATH = 'kaggle-siim-covid/exp/weights/best.pt'\n",
    "MODEL_PATH = '/kaggle/working/tmp/yolov5/weights/best.pt'\n",
    "os.makedirs(os.path.dirname(MODEL_PATH))"
   ]
  },
  {
   "cell_type": "markdown",
   "metadata": {},
   "source": [
    "```\n",
    "--weights {MODEL_PATH} \\ # path to the best model.\n",
    "--source {TEST_PATH} \\ # absolute path to the test images.\n",
    "--img {IMG_SIZE} \\ # Size of image\n",
    "--conf 0.281 \\ # Confidence threshold (default is 0.25)\n",
    "--iou-thres 0.5 \\ # IOU threshold (default is 0.45)\n",
    "--max-det 3 \\ # Number of detections per image (default is 1000) \n",
    "--save-txt \\ # Save predicted bounding box coordinates as txt files\n",
    "--save-conf # Save the confidence of prediction for each bounding box\n",
    "```"
   ]
  },
  {
   "cell_type": "code",
   "execution_count": null,
   "metadata": {
    "_kg_hide-output": true,
    "execution": {
     "iopub.execute_input": "2021-05-23T19:12:25.325905Z",
     "iopub.status.busy": "2021-05-23T19:12:25.325558Z",
     "iopub.status.idle": "2021-05-23T19:13:05.525279Z",
     "shell.execute_reply": "2021-05-23T19:13:05.524304Z",
     "shell.execute_reply.started": "2021-05-23T19:12:25.325875Z"
    },
    "scrolled": true
   },
   "outputs": [],
   "source": [
    "!python detect.py --weights {MODEL_PATH} \\\n",
    "                  --source {TEST_PATH} \\\n",
    "                  --img {IMG_SIZE} \\\n",
    "                  --conf 0.281 \\\n",
    "                  --iou-thres 0.5 \\\n",
    "                  --max-det 3 \\\n",
    "                  --save-txt \\\n",
    "                  --save-conf"
   ]
  },
  {
   "cell_type": "markdown",
   "metadata": {},
   "source": [
    "### How to find the confidence score?\n",
    "\n",
    "1. First first the [W&B run page](https://wandb.ai/ayush-thakur/kaggle-siim-covid/runs/jbt74n7q) generated by training the YOLOv5 model. \n",
    "\n",
    "2. Go to the media panel -> click on the F1_curve.png file to get a rough estimate of the threshold -> go to the Bounding Box Debugger panel and interactively adjust the confidence threshold. \n",
    "\n",
    "![img](https://i.imgur.com/cCUnTBw.gif)"
   ]
  },
  {
   "cell_type": "markdown",
   "metadata": {},
   "source": [
    "> 📍 The bounding box coordinates are saved as text file per image name. It is saved in this directory `runs/detect/exp3/labels`. "
   ]
  },
  {
   "cell_type": "code",
   "execution_count": null,
   "metadata": {
    "_kg_hide-output": true,
    "execution": {
     "iopub.execute_input": "2021-05-23T23:49:10.27145Z",
     "iopub.status.busy": "2021-05-23T23:49:10.271105Z",
     "iopub.status.idle": "2021-05-23T23:49:10.900773Z",
     "shell.execute_reply": "2021-05-23T23:49:10.899874Z",
     "shell.execute_reply.started": "2021-05-23T23:49:10.271418Z"
    },
    "scrolled": true
   },
   "outputs": [],
   "source": [
    "PRED_PATH = 'runs/detect/exp3/labels'"
   ]
  },
  {
   "cell_type": "code",
   "execution_count": null,
   "metadata": {
    "execution": {
     "iopub.execute_input": "2021-05-23T23:49:14.79253Z",
     "iopub.status.busy": "2021-05-23T23:49:14.792212Z",
     "iopub.status.idle": "2021-05-23T23:49:15.427611Z",
     "shell.execute_reply": "2021-05-23T23:49:15.426681Z",
     "shell.execute_reply.started": "2021-05-23T23:49:14.792498Z"
    }
   },
   "outputs": [],
   "source": [
    "# Visualize predicted coordinates.\n",
    "%cat runs/detect/exp3/labels/ba91d37ee459.txt"
   ]
  },
  {
   "cell_type": "markdown",
   "metadata": {},
   "source": [
    "> 📍 Note: 1 is class id (opacity), the first four float numbers are `x_center`, `y_center`, `width` and `height`. The final float value is `confidence`."
   ]
  },
  {
   "cell_type": "code",
   "execution_count": null,
   "metadata": {
    "execution": {
     "iopub.execute_input": "2021-05-23T23:49:17.65575Z",
     "iopub.status.busy": "2021-05-23T23:49:17.655442Z",
     "iopub.status.idle": "2021-05-23T23:49:17.661362Z",
     "shell.execute_reply": "2021-05-23T23:49:17.660382Z",
     "shell.execute_reply.started": "2021-05-23T23:49:17.655721Z"
    }
   },
   "outputs": [],
   "source": [
    "prediction_files = os.listdir(PRED_PATH)\n",
    "print('Number of test images predicted as opaque: ', len(prediction_files))"
   ]
  },
  {
   "cell_type": "markdown",
   "metadata": {},
   "source": [
    "> 📍 Out of 1263 test images, 583 were predicted with `opacity` label and thus we have that many prediction txt files."
   ]
  },
  {
   "cell_type": "markdown",
   "metadata": {},
   "source": [
    "# Submission\n",
    "\n",
    "In this section, I will show how you can use YOLOv5 as object detector and prepare `submission.csv` file."
   ]
  },
  {
   "cell_type": "code",
   "execution_count": null,
   "metadata": {
    "_kg_hide-input": false,
    "execution": {
     "iopub.execute_input": "2021-05-24T00:04:32.640474Z",
     "iopub.status.busy": "2021-05-24T00:04:32.640121Z",
     "iopub.status.idle": "2021-05-24T00:04:32.649309Z",
     "shell.execute_reply": "2021-05-24T00:04:32.64846Z",
     "shell.execute_reply.started": "2021-05-24T00:04:32.640442Z"
    }
   },
   "outputs": [],
   "source": [
    "# The submisison requires xmin, ymin, xmax, ymax format. \n",
    "# YOLOv5 returns x_center, y_center, width, height\n",
    "def correct_bbox_format(bboxes):\n",
    "    correct_bboxes = []\n",
    "    for b in bboxes:\n",
    "        xc, yc = int(np.round(b[0]*IMG_SIZE)), int(np.round(b[1]*IMG_SIZE))\n",
    "        w, h = int(np.round(b[2]*IMG_SIZE)), int(np.round(b[3]*IMG_SIZE))\n",
    "\n",
    "        xmin = xc - int(np.round(w/2))\n",
    "        xmax = xc + int(np.round(w/2))\n",
    "        ymin = yc - int(np.round(h/2))\n",
    "        ymax = yc + int(np.round(h/2))\n",
    "        \n",
    "        correct_bboxes.append([xmin, xmax, ymin, ymax])\n",
    "        \n",
    "    return correct_bboxes\n",
    "\n",
    "# Read the txt file generated by YOLOv5 during inference and extract \n",
    "# confidence and bounding box coordinates.\n",
    "def get_conf_bboxes(file_path):\n",
    "    confidence = []\n",
    "    bboxes = []\n",
    "    with open(file_path, 'r') as file:\n",
    "        for line in file:\n",
    "            preds = line.strip('\\n').split(' ')\n",
    "            preds = list(map(float, preds))\n",
    "            confidence.append(preds[-1])\n",
    "            bboxes.append(preds[1:-1])\n",
    "    return confidence, bboxes"
   ]
  },
  {
   "cell_type": "code",
   "execution_count": null,
   "metadata": {
    "execution": {
     "iopub.execute_input": "2021-05-24T00:04:43.958403Z",
     "iopub.status.busy": "2021-05-24T00:04:43.958093Z",
     "iopub.status.idle": "2021-05-24T00:04:43.97789Z",
     "shell.execute_reply": "2021-05-24T00:04:43.977167Z",
     "shell.execute_reply.started": "2021-05-24T00:04:43.958375Z"
    }
   },
   "outputs": [],
   "source": [
    "# Read the submisison file\n",
    "sub_df = pd.read_csv('/kaggle/input/siim-covid19-detection/sample_submission.csv')\n",
    "sub_df.tail()"
   ]
  },
  {
   "cell_type": "code",
   "execution_count": null,
   "metadata": {
    "execution": {
     "iopub.execute_input": "2021-05-24T00:05:07.787407Z",
     "iopub.status.busy": "2021-05-24T00:05:07.787078Z",
     "iopub.status.idle": "2021-05-24T00:05:08.160354Z",
     "shell.execute_reply": "2021-05-24T00:05:08.159234Z",
     "shell.execute_reply.started": "2021-05-24T00:05:07.787378Z"
    }
   },
   "outputs": [],
   "source": [
    "# Prediction loop for submission\n",
    "predictions = []\n",
    "\n",
    "for i in tqdm(range(len(sub_df))):\n",
    "    row = sub_df.loc[i]\n",
    "    id_name = row.id.split('_')[0]\n",
    "    id_level = row.id.split('_')[-1]\n",
    "    \n",
    "    if id_level == 'study':\n",
    "        # do study-level classification\n",
    "        predictions.append(\"Negative 1 0 0 1 1\") # dummy prediction\n",
    "        \n",
    "    elif id_level == 'image':\n",
    "        # we can do image-level classification here.\n",
    "        # also we can rely on the object detector's classification head.\n",
    "        # for this example submisison we will use YOLO's classification head. \n",
    "        # since we already ran the inference we know which test images belong to opacity.\n",
    "        if f'{id_name}.txt' in prediction_files:\n",
    "            # opacity label\n",
    "            confidence, bboxes = get_conf_bboxes(f'{PRED_PATH}/{id_name}.txt')\n",
    "            bboxes = correct_bbox_format(bboxes)\n",
    "            pred_string = ''\n",
    "            for j, conf in enumerate(confidence):\n",
    "                pred_string += f'opacity {conf} ' + ' '.join(map(str, bboxes[j])) + ' '\n",
    "            predictions.append(pred_string[:-1]) \n",
    "        else:\n",
    "            predictions.append(\"None 1 0 0 1 1\")"
   ]
  },
  {
   "cell_type": "code",
   "execution_count": null,
   "metadata": {
    "execution": {
     "iopub.execute_input": "2021-05-24T00:05:14.382937Z",
     "iopub.status.busy": "2021-05-24T00:05:14.382633Z",
     "iopub.status.idle": "2021-05-24T00:05:14.406141Z",
     "shell.execute_reply": "2021-05-24T00:05:14.405412Z",
     "shell.execute_reply.started": "2021-05-24T00:05:14.382909Z"
    }
   },
   "outputs": [],
   "source": [
    "sub_df['PredictionString'] = predictions\n",
    "sub_df.to_csv('submission.csv', index=False)\n",
    "sub_df.tail()"
   ]
  },
  {
   "cell_type": "markdown",
   "metadata": {},
   "source": [
    "# WORK IN PROGRESS\n",
    "\n",
    "Final component is model prediction visualization which is an optional debugging tool I would like to share. :)\n",
    "\n",
    "Consider upvoting if you find the work useful. "
   ]
  }
 ],
 "metadata": {
  "kernelspec": {
   "display_name": "Python 3",
   "language": "python",
   "name": "python3"
  },
  "language_info": {
   "codemirror_mode": {
    "name": "ipython",
    "version": 3
   },
   "file_extension": ".py",
   "mimetype": "text/x-python",
   "name": "python",
   "nbconvert_exporter": "python",
   "pygments_lexer": "ipython3",
   "version": "3.6.4"
  }
 },
 "nbformat": 4,
 "nbformat_minor": 4
}
